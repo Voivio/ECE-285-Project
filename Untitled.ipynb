{
 "cells": [
  {
   "cell_type": "code",
   "execution_count": 4,
   "id": "0d0d9169",
   "metadata": {},
   "outputs": [],
   "source": [
    "from models.convnext import *\n",
    "import torch"
   ]
  },
  {
   "cell_type": "code",
   "execution_count": 5,
   "id": "a9f801ce",
   "metadata": {},
   "outputs": [],
   "source": [
    "torch.cuda.empty_cache()"
   ]
  },
  {
   "cell_type": "code",
   "execution_count": 2,
   "id": "f67e255b",
   "metadata": {},
   "outputs": [],
   "source": [
    "model = convnext_base(num_input_images = 2, pretrained=True)"
   ]
  },
  {
   "cell_type": "code",
   "execution_count": 3,
   "id": "3695c1f9",
   "metadata": {},
   "outputs": [],
   "source": [
    "x = torch.ones(64, 6, 225,225)\n",
    "y = model(x)"
   ]
  },
  {
   "cell_type": "code",
   "execution_count": 4,
   "id": "27c71fb0",
   "metadata": {},
   "outputs": [
    {
     "name": "stdout",
     "output_type": "stream",
     "text": [
      "torch.Size([64, 128, 56, 56])\n",
      "torch.Size([64, 256, 28, 28])\n",
      "torch.Size([64, 512, 14, 14])\n",
      "torch.Size([64, 1024, 7, 7])\n"
     ]
    }
   ],
   "source": [
    "for fea in y:\n",
    "    print(fea.shape)"
   ]
  },
  {
   "cell_type": "code",
   "execution_count": 5,
   "id": "89c45d96",
   "metadata": {},
   "outputs": [],
   "source": [
    "c = torch.ones(64,32,32,32)"
   ]
  },
  {
   "cell_type": "code",
   "execution_count": 6,
   "id": "32ecd981",
   "metadata": {},
   "outputs": [
    {
     "ename": "TypeError",
     "evalue": "cat() received an invalid combination of arguments - got (Tensor, int), but expected one of:\n * (tuple of Tensors tensors, name dim, *, Tensor out)\n * (tuple of Tensors tensors, int dim, *, Tensor out)\n",
     "output_type": "error",
     "traceback": [
      "\u001b[1;31m---------------------------------------------------------------------------\u001b[0m",
      "\u001b[1;31mTypeError\u001b[0m                                 Traceback (most recent call last)",
      "Input \u001b[1;32mIn [6]\u001b[0m, in \u001b[0;36m<cell line: 1>\u001b[1;34m()\u001b[0m\n\u001b[1;32m----> 1\u001b[0m c \u001b[38;5;241m=\u001b[39m \u001b[43mtorch\u001b[49m\u001b[38;5;241;43m.\u001b[39;49m\u001b[43mcat\u001b[49m\u001b[43m(\u001b[49m\u001b[43mc\u001b[49m\u001b[43m,\u001b[49m\u001b[38;5;241;43m1\u001b[39;49m\u001b[43m)\u001b[49m\n",
      "\u001b[1;31mTypeError\u001b[0m: cat() received an invalid combination of arguments - got (Tensor, int), but expected one of:\n * (tuple of Tensors tensors, name dim, *, Tensor out)\n * (tuple of Tensors tensors, int dim, *, Tensor out)\n"
     ]
    }
   ],
   "source": [
    "c = torch.cat(c,1)"
   ]
  },
  {
   "cell_type": "code",
   "execution_count": null,
   "id": "ac4b25c1",
   "metadata": {},
   "outputs": [],
   "source": []
  }
 ],
 "metadata": {
  "kernelspec": {
   "display_name": "Python 3 (ipykernel)",
   "language": "python",
   "name": "python3"
  },
  "language_info": {
   "codemirror_mode": {
    "name": "ipython",
    "version": 3
   },
   "file_extension": ".py",
   "mimetype": "text/x-python",
   "name": "python",
   "nbconvert_exporter": "python",
   "pygments_lexer": "ipython3",
   "version": "3.9.5"
  }
 },
 "nbformat": 4,
 "nbformat_minor": 5
}
